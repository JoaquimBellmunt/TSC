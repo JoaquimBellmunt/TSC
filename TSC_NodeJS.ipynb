{
 "cells": [
  {
   "cell_type": "code",
   "execution_count": 12,
   "metadata": {
    "collapsed": true
   },
   "outputs": [],
   "source": [
    "var async = require('async');\n",
    "var fs = require('fs');\n",
    "//var DataFrame = require('dataframe')\n",
    "// var JsonData = require(\"jsondata\");\n",
    "// var jsondata = new JsonData();"
   ]
  },
  {
   "cell_type": "code",
   "execution_count": null,
   "metadata": {
    "collapsed": true
   },
   "outputs": [],
   "source": [
    "var obj = JSON.parse(fs.readFileSync('wikidataExtract/WikiExtractedEntities.json', 'utf8'), 1000);\n",
    "\n",
    "// jsondata.load('wikidataExtract/WikiExtractedEntities.json', function(error, obj){\n",
    "//     if (err) throw err;\n",
    "//     assert(jsondata.data, obj); // obj is the loaded object\n",
    "// });"
   ]
  },
  {
   "cell_type": "code",
   "execution_count": null,
   "metadata": {},
   "outputs": [],
   "source": [
    "obj.length\n"
   ]
  },
  {
   "cell_type": "code",
   "execution_count": null,
   "metadata": {
    "collapsed": true
   },
   "outputs": [],
   "source": [
    "// jsondata.save('wikidataExtract/WikiExtractedEntities_all_python.json', function(error, str){\n",
    "//     if (err) throw err;\n",
    "//     assert(JSON.stringify(obj), str); // str is the stringify version of the data that was saved into the file\n",
    "// });"
   ]
  },
  {
   "cell_type": "code",
   "execution_count": null,
   "metadata": {
    "collapsed": true
   },
   "outputs": [],
   "source": [
    "//var obj = JSON.parse(fs.readFileSync('wikidataExtract/WikiExtractedEntities.json', 'utf8'), 1000);"
   ]
  },
  {
   "cell_type": "code",
   "execution_count": null,
   "metadata": {},
   "outputs": [],
   "source": [
    "obj[1]"
   ]
  },
  {
   "cell_type": "code",
   "execution_count": null,
   "metadata": {
    "collapsed": true
   },
   "outputs": [],
   "source": [
    "function isFull(item) {\n",
    "  return item.wikiExtract.results[0] != null\n",
    "}\n",
    "\n",
    "var results_obj = obj.filter(isFull);"
   ]
  },
  {
   "cell_type": "code",
   "execution_count": null,
   "metadata": {},
   "outputs": [],
   "source": [
    " results_obj.length"
   ]
  },
  {
   "cell_type": "code",
   "execution_count": null,
   "metadata": {},
   "outputs": [],
   "source": [
    "var wikidataListPeople = []\n",
    "var aux = {}\n",
    "//async.eachSeries(obj, function(item, cb) {}, funtion(err, result))\n",
    "var obj_entitiy = results_obj.forEach(function(item){\n",
    "//     console.log(item.First_Name)\n",
    "    aux[\"First_Name\"] = item.First_Name\n",
    "    aux[\"Last_Name\"] = item.Last_Name\n",
    "    aux[\"Name\"]= item.Name_mod\n",
    "    aux[\"Middle_Name\"] = item.Middle_Name\n",
    "    aux[\"Suffix_Name\"] = item.Suffix_Name\n",
    "    aux[\"Organizations\"] = item.Organizations\n",
    "    aux[\"Positions\"] = item.Positions\n",
    "    for (i=0; i < item.wikiExtract.results.length; i++) {\n",
    "        aux[\"WikiData_ID\"] = item.wikiExtract.results[i].id\n",
    "        aux[\"Name_mod\"] = item.Name_mod+'_'+item.wikiExtract.results[i].id\n",
    "        aux[\"WikiData_URL\"] = item.wikiExtract.results[i].url\n",
    "        if (item.wikiExtract.results[i].description != null) {\n",
    "            console.log(item.wikiExtract.results[i].description)\n",
    "            aux[\"Desc\"] = item.wikiExtract.results[i].description\n",
    "        }\n",
    "            \n",
    "        console.log(aux.Name)\n",
    "        wikidataListPeople.push(aux)\n",
    "        console.log(aux)\n",
    "        \n",
    "     }\n",
    "    \n",
    "    aux={}\n",
    "    \n",
    "    \n",
    "    //wikidataListPeople.push(aux)\n",
    "    \n",
    "    \n",
    "});"
   ]
  },
  {
   "cell_type": "code",
   "execution_count": 5,
   "metadata": {},
   "outputs": [],
   "source": [
    "var wikidataListPeople= JSON.parse(fs.readFileSync('wikidataExtract/WikiExtractedEntities_all_python3.json', 'utf8'), 1000);"
   ]
  },
  {
   "cell_type": "code",
   "execution_count": 6,
   "metadata": {},
   "outputs": [
    {
     "data": {
      "text/plain": [
       "75732"
      ]
     },
     "execution_count": 6,
     "metadata": {},
     "output_type": "execute_result"
    }
   ],
   "source": [
    "wikidataListPeople.length"
   ]
  },
  {
   "cell_type": "code",
   "execution_count": 7,
   "metadata": {},
   "outputs": [
    {
     "data": {
      "text/plain": [
       "{\"First_Name\":\"Henry\",\"Last_Name\":\"Bellingham\",\"Name\":\"Henry Bellingham\",\"Middle_Name\":\"\",\"Suffix_Name\":\"\",\"Organizations\":null,\"Positions\":null,\"WikiData_ID\":\"Q24515266\",\"Name_mod\":\"Henry Bellingham_Q24515266\",\"WikiData_URL\":\"//www.wikidata.org/wiki/Q24515266\",\"Desc\":\"Wikimedia disambiguation page\"}"
      ]
     },
     "execution_count": 7,
     "metadata": {},
     "output_type": "execute_result"
    }
   ],
   "source": [
    "wikidataListPeople[2]"
   ]
  },
  {
   "cell_type": "code",
   "execution_count": 9,
   "metadata": {},
   "outputs": [],
   "source": [
    "var wdk = require('wikidata-sdk')\n",
    "var request = require('request')"
   ]
  },
  {
   "cell_type": "code",
   "execution_count": 10,
   "metadata": {},
   "outputs": [],
   "source": [
    "function info (url, cb){\n",
    "    console.log('entra')\n",
    "    request.get(url, function(err, response){\n",
    "        if (err) { 'error:' + dealWithError(err) }\n",
    "        var entity = JSON.parse(response.body)\n",
    "        //var claims = entity.entities.item.WikiData_ID.claims\n",
    "        cb(null, entity);\n",
    "    })\n",
    "}"
   ]
  },
  {
   "cell_type": "code",
   "execution_count": 41,
   "metadata": {},
   "outputs": [
    {
     "name": "stdout",
     "output_type": "stream",
     "text": [
      "{\"First_Name\":\"Jorge\",\"Last_Name\":\"Garrido\",\"Name\":\"Jorge Garrido\",\"Middle_Name\":\"\",\"Suffix_Name\":\"\",\"Organizations\":null,\"Positions\":null,\"WikiData_ID\":\"Q18286099\",\"Name_mod\":\"Jorge Garrido_Q18286099\",\"WikiData_URL\":\"//www.wikidata.org/wiki/Q18286099\"}\n",
      "Q18286099\n",
      "https://www.wikidata.org/w/api.php?action=wbgetentities&ids=Q18286099&format=json\n"
     ]
    },
    {
     "ename": "Async Error",
     "evalue": "Cannot read property 'WikiData_ID' of undefined",
     "output_type": "error"
    }
   ],
   "source": [
    "var aux = {}\n",
    "var aux_vect = []\n",
    "\n",
    "async.eachSeries(wikidataListPeople, function(item, cb) {\n",
    "    if(item != undefined){\n",
    "    console.log(item)\n",
    "    aux = item\n",
    "    console.log(item.WikiData_ID)\n",
    "    var url = wdk.getEntities(aux.WikiData_ID)\n",
    "    console.log(url)\n",
    "    //console.log(aux.WikiData_URL)\n",
    "    \n",
    "        request.get(url, function (err, response, body) {\n",
    "            if (err) { \n",
    "                console.log('error:' + err)\n",
    "                cb(err)\n",
    "            } else {\n",
    "                //console.log(body)\n",
    "                var entity = JSON.parse(body)\n",
    "                var claims = entity.entities.item.WikiData_ID.claims\n",
    "                aux[\"Wikidata_request\"] = wdk.simplify.claims(entity)\n",
    "                aux_vect.push(aux);\n",
    "                console.log(aux_vect)\n",
    "                cb();\n",
    "            }\n",
    "        });\n",
    "    } else {\n",
    "        cb();\n",
    "    }\n",
    "}, function(err) {\n",
    "    if (err) console.error(err.message);\n",
    "    console.log('Done')\n",
    "});\n",
    "\n",
    "// for(var i = 0; i < wikidataListPeople.length;i++){\n",
    "//     aux = wikidataListPeople[i]\n",
    "//     console.log(aux.WikiData_ID)\n",
    "//     var url = wdk.getEntities(aux.WikiData_ID)\n",
    "//     console.log(url)\n",
    "//     info(url, function(err, entity){\n",
    "//         console.log(entity);\n",
    "//         if (err) { 'error:' + dealWithError(err) }\n",
    "//         aux[\"Wikidata_request\"] = wdk.simplify.claims(entity)\n",
    "//         aux_vect.push(aux);\n",
    "//         console.log(aux_vect)\n",
    "//     })\n",
    "// }\n"
   ]
  },
  {
   "cell_type": "code",
   "execution_count": null,
   "metadata": {
    "collapsed": true
   },
   "outputs": [],
   "source": []
  },
  {
   "cell_type": "code",
   "execution_count": null,
   "metadata": {},
   "outputs": [],
   "source": [
    "// var aux = {}\n",
    "// var aux_vect = []\n",
    "// async.eachSeries(wikidataListPeople, function(item, cb) {\n",
    "//     aux = item\n",
    "//     console.log(aux.WikiData_ID)\n",
    "//     var url = wdk.getEntities(aux.WikiData_ID)\n",
    "//     console.log(url)\n",
    "//     info(url, function(err, claims){\n",
    "//         console.log(claims);\n",
    "//         if (err) { 'error:' + dealWithError(err) }\n",
    "//         aux[\"Wikidata_Claims\"] = wdk.simplify.claims(claims)\n",
    "//         aux_vect.push(aux);\n",
    "//         console.log(aux_vect)\n",
    "//         cb();\n",
    "//     })\n",
    "// }, function(err, result){\n",
    "//     if(err) console.log(err)\n",
    "//     else console.log('all data requested')\n",
    "// });\n"
   ]
  },
  {
   "cell_type": "code",
   "execution_count": null,
   "metadata": {},
   "outputs": [],
   "source": []
  },
  {
   "cell_type": "code",
   "execution_count": null,
   "metadata": {},
   "outputs": [],
   "source": [
    "request.get(url, function(err, response){\n",
    "  if (err) { 'error:' + dealWithError(err) }\n",
    "    var entity = JSON.parse(response.body)\n",
    "//     var entities = response.entities\n",
    "    var claims = entity.entities.Q262616.claims\n",
    "    //console.log(entity.entities.Q262616.claims)\n",
    "    simplifiedClaims = wdk.simplify.claims(claims)\n",
    "    console.log(simplifiedClaims)\n",
    "    var simplifiedP31Claims = wdk.simplify.claim(P31[0])\n",
    "    console.log(simplifiedP31Claims)\n",
    "//   var simplifiedClaims = wdk.simplify.claims(entity.claims)\n",
    "})"
   ]
  },
  {
   "cell_type": "code",
   "execution_count": null,
   "metadata": {
    "collapsed": true
   },
   "outputs": [],
   "source": []
  },
  {
   "cell_type": "code",
   "execution_count": null,
   "metadata": {},
   "outputs": [],
   "source": [
    "fs.writeFile(\"wikidataExtract/WikiExtractedEntities_all_python3.json\", JSON.stringify(wikidataListPeople, null, 4), (err) => {\n",
    "\t\t\t\t    if (err) {\n",
    "\t\t\t\t        console.error(err);\n",
    "\t\t\t        \treturn;\n",
    "\t\t\t    \t} \n",
    "\t\t\t    \telse console.log('Json Saved');\n",
    "\t\t\t\t});"
   ]
  },
  {
   "cell_type": "code",
   "execution_count": null,
   "metadata": {
    "collapsed": true
   },
   "outputs": [],
   "source": []
  },
  {
   "cell_type": "code",
   "execution_count": null,
   "metadata": {},
   "outputs": [],
   "source": [
    "obj[0]"
   ]
  },
  {
   "cell_type": "code",
   "execution_count": null,
   "metadata": {
    "collapsed": true
   },
   "outputs": [],
   "source": [
    "var authorQid = 'Q76'\n",
    "var sparql = `\n",
    "SELECT ?work ?date WHERE {\n",
    "  ?work wdt:P50 wd:${authorQid} .\n",
    "  OPTIONAL {\n",
    "    ?work wdt:P577 ?date .\n",
    "  }\n",
    "}\n",
    "`\n",
    "var url = wdk.sparqlQuery(sparql)"
   ]
  }
 ],
 "metadata": {
  "kernelspec": {
   "display_name": "NodeJS",
   "language": "javascript",
   "name": "nodejs"
  },
  "language_info": {
   "codemirror_mode": "javascript",
   "file_extension": ".js",
   "mimetype": "text/javascript",
   "name": "nodejs",
   "pygments_lexer": "javascript",
   "version": "0.10"
  }
 },
 "nbformat": 4,
 "nbformat_minor": 2
}
