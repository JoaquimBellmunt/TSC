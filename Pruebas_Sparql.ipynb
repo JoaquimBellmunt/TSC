{
 "cells": [
  {
   "cell_type": "code",
   "execution_count": 11,
   "metadata": {},
   "outputs": [
    {
     "ename": "RuntimeError",
     "evalue": "No user-config.py found in directory '/Users/joaquimbellmunt/TSC'.\n  Please check that user-config.py is stored in the correct location.\n  Directory where user-config.py is searched is determined as follows:\n\n    Return the directory in which user-specific information is stored.\n\n    This is determined in the following order:\n     1.  If the script was called with a -dir: argument, use the directory\n         provided in this argument.\n     2.  If the user has a PYWIKIBOT2_DIR environment variable, use the value\n         of it.\n     3.  If user-config is present in current directory, use the current\n         directory.\n     4.  If user-config is present in pwb.py directory, use that directory\n     5.  Use (and if necessary create) a 'pywikibot' folder under\n         'Application Data' or 'AppData\\Roaming' (Windows) or\n         '.pywikibot' directory (Unix and similar) under the user's home\n         directory.\n\n    Set PYWIKIBOT2_NO_USER_CONFIG=1 to disable loading user-config.py\n\n    @param test_directory: Assume that a user config file exists in this\n        directory. Used to test whether placing a user config file in this\n        directory will cause it to be selected as the base directory.\n    @type test_directory: str or None\n    @rtype: unicode\n    ",
     "output_type": "error",
     "traceback": [
      "\u001b[0;31m---------------------------------------------------------------------------\u001b[0m",
      "\u001b[0;31mRuntimeError\u001b[0m                              Traceback (most recent call last)",
      "\u001b[0;32m<ipython-input-11-e9d1294019b2>\u001b[0m in \u001b[0;36m<module>\u001b[0;34m()\u001b[0m\n\u001b[1;32m      9\u001b[0m \u001b[0;32mfrom\u001b[0m \u001b[0mnameparser\u001b[0m \u001b[0;32mimport\u001b[0m \u001b[0mHumanName\u001b[0m\u001b[0;34m\u001b[0m\u001b[0m\n\u001b[1;32m     10\u001b[0m \u001b[0;32mfrom\u001b[0m \u001b[0mSPARQLWrapper\u001b[0m \u001b[0;32mimport\u001b[0m \u001b[0mSPARQLWrapper\u001b[0m\u001b[0;34m,\u001b[0m \u001b[0mJSON\u001b[0m\u001b[0;34m\u001b[0m\u001b[0m\n\u001b[0;32m---> 11\u001b[0;31m \u001b[0;32mimport\u001b[0m \u001b[0mpywikibot\u001b[0m\u001b[0;34m\u001b[0m\u001b[0m\n\u001b[0m",
      "\u001b[0;32m/Library/Frameworks/Python.framework/Versions/3.5/lib/python3.5/site-packages/pywikibot/__init__.py\u001b[0m in \u001b[0;36m<module>\u001b[0;34m()\u001b[0m\n\u001b[1;32m     36\u001b[0m )\n\u001b[1;32m     37\u001b[0m \u001b[0;34m\u001b[0m\u001b[0m\n\u001b[0;32m---> 38\u001b[0;31m \u001b[0;32mfrom\u001b[0m \u001b[0mpywikibot\u001b[0m \u001b[0;32mimport\u001b[0m \u001b[0mconfig2\u001b[0m \u001b[0;32mas\u001b[0m \u001b[0mconfig\u001b[0m\u001b[0;34m\u001b[0m\u001b[0m\n\u001b[0m\u001b[1;32m     39\u001b[0m \u001b[0;34m\u001b[0m\u001b[0m\n\u001b[1;32m     40\u001b[0m from pywikibot.bot import (\n",
      "\u001b[0;32m/Library/Frameworks/Python.framework/Versions/3.5/lib/python3.5/site-packages/pywikibot/config2.py\u001b[0m in \u001b[0;36m<module>\u001b[0;34m()\u001b[0m\n\u001b[1;32m    371\u001b[0m \u001b[0;34m\u001b[0m\u001b[0m\n\u001b[1;32m    372\u001b[0m \u001b[0m_get_base_dir\u001b[0m \u001b[0;34m=\u001b[0m \u001b[0mget_base_dir\u001b[0m  \u001b[0;31m# for backward compatibility\u001b[0m\u001b[0;34m\u001b[0m\u001b[0m\n\u001b[0;32m--> 373\u001b[0;31m \u001b[0m_base_dir\u001b[0m \u001b[0;34m=\u001b[0m \u001b[0mget_base_dir\u001b[0m\u001b[0;34m(\u001b[0m\u001b[0;34m)\u001b[0m\u001b[0;34m\u001b[0m\u001b[0m\n\u001b[0m\u001b[1;32m    374\u001b[0m \u001b[0;31m# Save base_dir for use by other modules\u001b[0m\u001b[0;34m\u001b[0m\u001b[0;34m\u001b[0m\u001b[0m\n\u001b[1;32m    375\u001b[0m \u001b[0mbase_dir\u001b[0m \u001b[0;34m=\u001b[0m \u001b[0m_base_dir\u001b[0m\u001b[0;34m\u001b[0m\u001b[0m\n",
      "\u001b[0;32m/Library/Frameworks/Python.framework/Versions/3.5/lib/python3.5/site-packages/pywikibot/config2.py\u001b[0m in \u001b[0;36mget_base_dir\u001b[0;34m(test_directory)\u001b[0m\n\u001b[1;32m    365\u001b[0m             \u001b[0mexc_text\u001b[0m \u001b[0;34m+=\u001b[0m \u001b[0;34m\"  Directory where user-config.py is searched is determined as follows:\\n\\n\"\u001b[0m\u001b[0;34m\u001b[0m\u001b[0m\n\u001b[1;32m    366\u001b[0m             \u001b[0mexc_text\u001b[0m \u001b[0;34m+=\u001b[0m \u001b[0;34m\"    \"\u001b[0m \u001b[0;34m+\u001b[0m \u001b[0mget_base_dir\u001b[0m\u001b[0;34m.\u001b[0m\u001b[0m__doc__\u001b[0m\u001b[0;34m\u001b[0m\u001b[0m\n\u001b[0;32m--> 367\u001b[0;31m             \u001b[0;32mraise\u001b[0m \u001b[0mRuntimeError\u001b[0m\u001b[0;34m(\u001b[0m\u001b[0mexc_text\u001b[0m\u001b[0;34m)\u001b[0m\u001b[0;34m\u001b[0m\u001b[0m\n\u001b[0m\u001b[1;32m    368\u001b[0m \u001b[0;34m\u001b[0m\u001b[0m\n\u001b[1;32m    369\u001b[0m     \u001b[0;32mreturn\u001b[0m \u001b[0mbase_dir\u001b[0m\u001b[0;34m\u001b[0m\u001b[0m\n",
      "\u001b[0;31mRuntimeError\u001b[0m: No user-config.py found in directory '/Users/joaquimbellmunt/TSC'.\n  Please check that user-config.py is stored in the correct location.\n  Directory where user-config.py is searched is determined as follows:\n\n    Return the directory in which user-specific information is stored.\n\n    This is determined in the following order:\n     1.  If the script was called with a -dir: argument, use the directory\n         provided in this argument.\n     2.  If the user has a PYWIKIBOT2_DIR environment variable, use the value\n         of it.\n     3.  If user-config is present in current directory, use the current\n         directory.\n     4.  If user-config is present in pwb.py directory, use that directory\n     5.  Use (and if necessary create) a 'pywikibot' folder under\n         'Application Data' or 'AppData\\Roaming' (Windows) or\n         '.pywikibot' directory (Unix and similar) under the user's home\n         directory.\n\n    Set PYWIKIBOT2_NO_USER_CONFIG=1 to disable loading user-config.py\n\n    @param test_directory: Assume that a user config file exists in this\n        directory. Used to test whether placing a user config file in this\n        directory will cause it to be selected as the base directory.\n    @type test_directory: str or None\n    @rtype: unicode\n    "
     ]
    }
   ],
   "source": [
    "\n",
    "import pandas as pd\n",
    "import numpy as np\n",
    "from numpy import loadtxt\n",
    "import datetime as dt\n",
    "import scipy as s\n",
    "import sys\n",
    "import json\n",
    "from nameparser import HumanName\n",
    "from SPARQLWrapper import SPARQLWrapper, JSON\n"
   ]
  },
  {
   "cell_type": "code",
   "execution_count": 8,
   "metadata": {},
   "outputs": [],
   "source": [
    "# obj = pd.read_json('wikidataExtract/WikiExtractedEntities_all_python2.json', 'utf8');\n",
    "import fs\n",
    "wikidataListPeople= fs.read('wikidataExtract/WikiExtractedEntities_all_python3.json', 'utf8')\n",
    "wikidataListPeople = json.loads(wikidataListPeople)\n"
   ]
  },
  {
   "cell_type": "code",
   "execution_count": 17,
   "metadata": {},
   "outputs": [
    {
     "data": {
      "text/plain": [
       "{'First_Name': 'Jorge',\n",
       " 'Last_Name': 'Garrido',\n",
       " 'Middle_Name': '',\n",
       " 'Name': 'Jorge Garrido',\n",
       " 'Name_mod': 'Jorge Garrido_Q18286099',\n",
       " 'Organizations': None,\n",
       " 'Positions': None,\n",
       " 'Suffix_Name': '',\n",
       " 'WikiData_ID': 'Q18286099',\n",
       " 'WikiData_URL': '//www.wikidata.org/wiki/Q18286099'}"
      ]
     },
     "execution_count": 17,
     "metadata": {},
     "output_type": "execute_result"
    }
   ],
   "source": [
    "wikidataListPeople[1]"
   ]
  },
  {
   "cell_type": "code",
   "execution_count": 18,
   "metadata": {},
   "outputs": [
    {
     "data": {
      "text/plain": [
       "ItemPage('Q18286099')"
      ]
     },
     "execution_count": 18,
     "metadata": {},
     "output_type": "execute_result"
    }
   ],
   "source": [
    "import pywikibot\n",
    "\n",
    "site = pywikibot.Site(\"wikidata\", \"wikidata\")\n",
    "repo = site.data_repository()\n",
    "item = pywikibot.ItemPage(repo, \"Q18286099\")\n",
    "item"
   ]
  },
  {
   "cell_type": "code",
   "execution_count": 19,
   "metadata": {},
   "outputs": [
    {
     "name": "stdout",
     "output_type": "stream",
     "text": [
      "{'P140': [Claim.fromJSON(DataSite(\"wikidata\", \"wikidata\"), {'references': [{'snaks-order': ['P143'], 'snaks': {'P143': [{'datatype': 'wikibase-item', 'snaktype': 'value', 'datavalue': {'type': 'wikibase-entityid', 'value': {'entity-type': 'item', 'numeric-id': 8449}}, 'property': 'P143'}]}, 'hash': 'c456dc5cd2117249948c288206ff3f8b1bf574f0'}], 'id': 'Q18286099$E2E8205B-2D51-40C3-B96F-09413454ECA2', 'type': 'statement', 'mainsnak': {'datatype': 'wikibase-item', 'snaktype': 'value', 'datavalue': {'type': 'wikibase-entityid', 'value': {'entity-type': 'item', 'numeric-id': 1841}}, 'property': 'P140'}, 'rank': 'normal'})], 'P27': [Claim.fromJSON(DataSite(\"wikidata\", \"wikidata\"), {'id': 'Q18286099$9987CF46-E39A-4946-8EF2-D20BA503E77A', 'type': 'statement', 'mainsnak': {'datatype': 'wikibase-item', 'snaktype': 'value', 'datavalue': {'type': 'wikibase-entityid', 'value': {'entity-type': 'item', 'numeric-id': 29}}, 'property': 'P27'}, 'rank': 'normal'})], 'P106': [Claim.fromJSON(DataSite(\"wikidata\", \"wikidata\"), {'id': 'Q18286099$BD84A5E9-C943-4E26-9A0C-70C396FCB9BD', 'type': 'statement', 'mainsnak': {'datatype': 'wikibase-item', 'snaktype': 'value', 'datavalue': {'type': 'wikibase-entityid', 'value': {'entity-type': 'item', 'numeric-id': 82955}}, 'property': 'P106'}, 'rank': 'normal'})], 'P569': [Claim.fromJSON(DataSite(\"wikidata\", \"wikidata\"), {'id': 'Q18286099$3717E936-EE3F-41B3-B9D0-3C7CB1522DCE', 'type': 'statement', 'mainsnak': {'datatype': 'time', 'snaktype': 'value', 'datavalue': {'type': 'time', 'value': {'before': 0, 'time': '+00000001974-00-00T00:00:00Z', 'timezone': 0, 'calendarmodel': 'http://www.wikidata.org/entity/Q1985727', 'precision': 9, 'after': 0}}, 'property': 'P569'}, 'rank': 'normal'})], 'P31': [Claim.fromJSON(DataSite(\"wikidata\", \"wikidata\"), {'id': 'Q18286099$43D14314-2E4C-4FD5-9426-C2712E807ACF', 'type': 'statement', 'mainsnak': {'datatype': 'wikibase-item', 'snaktype': 'value', 'datavalue': {'type': 'wikibase-entityid', 'value': {'entity-type': 'item', 'numeric-id': 5}}, 'property': 'P31'}, 'rank': 'normal'})], 'P735': [Claim.fromJSON(DataSite(\"wikidata\", \"wikidata\"), {'id': 'Q18286099$C6D74734-36AB-4FBE-955E-05D2F3A3FB46', 'type': 'statement', 'mainsnak': {'datatype': 'wikibase-item', 'snaktype': 'value', 'datavalue': {'type': 'wikibase-entityid', 'value': {'entity-type': 'item', 'numeric-id': 14346236}}, 'property': 'P735'}, 'rank': 'normal'})], 'P21': [Claim.fromJSON(DataSite(\"wikidata\", \"wikidata\"), {'id': 'Q18286099$40521294-C39C-49D6-B29D-235320AD61C3', 'type': 'statement', 'mainsnak': {'datatype': 'wikibase-item', 'snaktype': 'value', 'datavalue': {'type': 'wikibase-entityid', 'value': {'entity-type': 'item', 'numeric-id': 6581097}}, 'property': 'P21'}, 'rank': 'normal'})], 'P19': [Claim.fromJSON(DataSite(\"wikidata\", \"wikidata\"), {'references': [{'snaks-order': ['P143'], 'snaks': {'P143': [{'datatype': 'wikibase-item', 'snaktype': 'value', 'datavalue': {'type': 'wikibase-entityid', 'value': {'entity-type': 'item', 'numeric-id': 8449}}, 'property': 'P143'}]}, 'hash': 'c456dc5cd2117249948c288206ff3f8b1bf574f0'}], 'id': 'Q18286099$F020FD83-DA5E-4704-AA55-DDB0E5245ADF', 'type': 'statement', 'mainsnak': {'datatype': 'wikibase-item', 'snaktype': 'value', 'datavalue': {'type': 'wikibase-entityid', 'value': {'entity-type': 'item', 'numeric-id': 1443867}}, 'property': 'P19'}, 'rank': 'normal'})]}\n"
     ]
    }
   ],
   "source": [
    "item_dict = item.get() #Get the item dictionary\n",
    "clm_dict = item_dict[\"claims\"] # Get the claim dictionary\n",
    "print(clm_dict)"
   ]
  },
  {
   "cell_type": "code",
   "execution_count": null,
   "metadata": {
    "collapsed": true
   },
   "outputs": [],
   "source": [
    "#with open('server/WikiExtracted_24Jan.txt', 'r') as f:\n",
    "with open('server/WikiExtracted_24Jan.txt', 'r') as data_file:\n",
    "    json_data = data_file.read()\n",
    "wiki = json.loads(json_data)\n",
    "#WikiData_extract = json.loads('server/WikiExtracted_24Jan.txt')"
   ]
  },
  {
   "cell_type": "code",
   "execution_count": null,
   "metadata": {
    "collapsed": true
   },
   "outputs": [],
   "source": [
    "\n",
    "#json_data_file = open(\"wikidataExtract/WikiExtracted_24Jan_server.json\", 'r').read()\n",
    "\n",
    "# json_data_file\n",
    "#WikiData_extract = json.loads(str(json_data_file))\n",
    "#len(WikiData_extract[])\n",
    "with open('wikidataExtract/WikiExtracted_24Jan_server.json', 'r') as f:\n",
    "     WikiData_extract = json.loads(f)\n",
    "# with open('wikidataExtract/WikiExtracted_24Jan_server.json') as json_file:  \n",
    "#     WikiData_extract = pd.read_json(json_file)\n",
    "    #for p in data['people']:\n",
    "    \n",
    "# with open('wikidataExtract/WikiExtracted_24Jan_server.json', 'r') as data_file:\n",
    "#     json_data = data_file.read()\n",
    "# json_data\n",
    "# #WikiData_extract = json.loads(json_data)\n",
    "#WikiData_extract = pd.read_json('wikidataExtract/WikiExtracted_24Jan_server.json')\n",
    "\n",
    "#WikiData_extract"
   ]
  },
  {
   "cell_type": "raw",
   "metadata": {},
   "source": []
  },
  {
   "cell_type": "code",
   "execution_count": null,
   "metadata": {
    "collapsed": true
   },
   "outputs": [],
   "source": [
    "WikiData_extract[0:200]"
   ]
  },
  {
   "cell_type": "code",
   "execution_count": null,
   "metadata": {
    "collapsed": true
   },
   "outputs": [],
   "source": [
    "wiki_all=pd.DataFrame(WikiData)\n",
    "wiki_searched =wiki_all[wiki_all['rawData_wiki'].notnull()]\n",
    "print(len(wiki_searched))\n",
    "wiki_data=wiki_searched[wiki_searched['rawData_wiki']!='Empty DataFrame\\nColumns: []\\nIndex: []']\n",
    "print(len(wiki_data))"
   ]
  },
  {
   "cell_type": "code",
   "execution_count": null,
   "metadata": {
    "collapsed": true
   },
   "outputs": [],
   "source": [
    "with open('Yago_all.json', 'r') as f:\n",
    "     YagoData = json.load(f)\n",
    "\n",
    "yago_all=pd.DataFrame(YagoData)\n",
    "yago_all"
   ]
  },
  {
   "cell_type": "code",
   "execution_count": null,
   "metadata": {
    "collapsed": true
   },
   "outputs": [],
   "source": [
    "\n",
    "yago_searched =yago_all[yago_all['rawData_Yago'].notnull()]\n",
    "print(len(yago_searched))\n",
    "yago_data=yago_searched[yago_searched['rawData_Yago']!='Empty DataFrame\\nColumns: []\\nIndex: []']\n",
    "print(len(yago_data))"
   ]
  },
  {
   "cell_type": "code",
   "execution_count": null,
   "metadata": {
    "collapsed": true
   },
   "outputs": [],
   "source": [
    "with open('Db_all.json', 'r') as f:\n",
    "     DBData = json.load(f)\n",
    "\n",
    "db_all=pd.DataFrame(DBData)\n",
    "db_all"
   ]
  },
  {
   "cell_type": "code",
   "execution_count": null,
   "metadata": {
    "collapsed": true
   },
   "outputs": [],
   "source": [
    "db_searched =db_all[db_all['rawData_Db'].notnull()]\n",
    "print(len(db_searched))\n",
    "db_data=db_searched[db_searched['rawData_Db']!='Empty DataFrame\\nColumns: []\\nIndex: []']\n",
    "print(len(db_data))"
   ]
  },
  {
   "cell_type": "code",
   "execution_count": null,
   "metadata": {
    "collapsed": true
   },
   "outputs": [],
   "source": [
    "def find_WikiData(name):\n",
    "    data_Wiki = None\n",
    "    try:\n",
    "        sparql = SPARQLWrapper(\"https://query.wikidata.org/sparql\")\n",
    "        query = \"\"\"\n",
    "        SELECT ?p ?pLabel ?name\n",
    "        WHERE {\n",
    "          ?p wdt:P31 wd:Q5.\n",
    "          ?p wdt:P1559 ?name.\n",
    "          FILTER regex(?name,\"\"\"+'\"'+name+'\"'+\"\"\",\"i\")\n",
    "          SERVICE wikibase:label { bd:serviceParam wikibase:language \"all\". }\n",
    "        }\n",
    "            \"\"\"\n",
    "        sparql.setQuery(query)\n",
    "        sparql.setReturnFormat(JSON)\n",
    "        results = sparql.query().convert()\n",
    "\n",
    "        data_Wiki=pd.DataFrame(results['results']['bindings'])\n",
    "    except TypeError as e1:\n",
    "        print ('The index:', i, 'encountered exception: TypeError')\n",
    "        print(e1)\n",
    "        pass\n",
    "    except ValueError as e2:\n",
    "        print ('The index:', i, 'encountered exception: ValueError')\n",
    "        print(e2)\n",
    "        pass\n",
    "    except NameError as e4:\n",
    "        print ('The index:', i, 'encountered exception: NameError')\n",
    "        print(e4)\n",
    "        pass\n",
    "    except Exception as e:\n",
    "        print ('The index:', i, 'encountered exception: Exception')\n",
    "        print(e)\n",
    "        pass\n",
    "\n",
    "    return(data_Wiki)\n",
    "\n",
    "def find_DBpedia(name):\n",
    "        sparql = SPARQLWrapper(\"http://dbpedia.org/sparql\")\n",
    "        query = \"\"\"\n",
    "            PREFIX  rdf:  <http://www.w3.org/1999/02/22-rdf-syntax-ns#>\n",
    "            PREFIX foaf: <http://xmlns.com/foaf/0.1/>\n",
    "            PREFIX  dbo: <http://dbpedia.org/ontology/>\n",
    "            PREFIX  dbp: <http://dbpedia.org/property/>\n",
    "\n",
    "            SELECT ?resource ?name\n",
    "            WHERE {\n",
    "              ?resource  rdf:type  dbo:Person;\n",
    "              rdfs:label ?name.\n",
    "              FILTER regex(?name,\"\"\"+'\"'+name+'\"'+\"\"\",\"i\")\n",
    "            }\n",
    "            \"\"\"\n",
    "        sparql.setQuery(query)\n",
    "        sparql.setReturnFormat(JSON)\n",
    "        results = sparql.query().convert()\n",
    "\n",
    "        data_db=pd.DataFrame(results['results']['bindings'])\n",
    "\n",
    "        return(data_db)\n",
    "    \n",
    "def find_WikiYago(name):\n",
    "    data_Wiki = None\n",
    "    try:\n",
    "        sparql = SPARQLWrapper(\"http://dbpedia.org/sparql\")\n",
    "        query = \"\"\"\n",
    "            SELECT ?human ?name\n",
    "            WHERE {\n",
    "                ?human a <http://dbpedia.org/class/yago/WikicatLivingPeople>;\n",
    "                rdfs:label ?name\n",
    "                FILTER regex(?name,\"\"\"+'\"'+name+'\"'+\"\"\",\"i\")\n",
    "                }\n",
    "            \"\"\"\n",
    "        sparql.setQuery(query)\n",
    "        sparql.setReturnFormat(JSON)\n",
    "        results = sparql.query().convert()\n",
    "\n",
    "        data_Wiki=pd.DataFrame(results['results']['bindings'])\n",
    "\n",
    "    except TypeError as e1:\n",
    "        print ('The index:', i, 'encountered exception: TypeError')\n",
    "        print(e1)\n",
    "        pass\n",
    "    except ValueError as e2:\n",
    "        print ('The index:', i, 'encountered exception: ValueError')\n",
    "        print(e2)\n",
    "        pass\n",
    "    except NameError as e4:\n",
    "        print ('The index:', i, 'encountered exception: NameError')\n",
    "        print(e4)\n",
    "        pass\n",
    "    except Exception as e:\n",
    "        print ('The index:', i, 'encountered exception: Exception')\n",
    "        print(e)\n",
    "        pass\n",
    "\n",
    "    return(data_Wiki)"
   ]
  },
  {
   "cell_type": "code",
   "execution_count": null,
   "metadata": {
    "collapsed": true
   },
   "outputs": [],
   "source": [
    "find_DBpedia('Barbara Błońska-Fajfrowska')"
   ]
  },
  {
   "cell_type": "code",
   "execution_count": null,
   "metadata": {
    "collapsed": true
   },
   "outputs": [],
   "source": [
    "find_WikiData('Barbara Błońska-Fajfrowska')"
   ]
  },
  {
   "cell_type": "code",
   "execution_count": null,
   "metadata": {
    "collapsed": true
   },
   "outputs": [],
   "source": []
  }
 ],
 "metadata": {
  "kernelspec": {
   "display_name": "Python 3",
   "language": "python",
   "name": "python3"
  },
  "language_info": {
   "codemirror_mode": {
    "name": "ipython",
    "version": 3
   },
   "file_extension": ".py",
   "mimetype": "text/x-python",
   "name": "python",
   "nbconvert_exporter": "python",
   "pygments_lexer": "ipython3",
   "version": "3.5.3"
  }
 },
 "nbformat": 4,
 "nbformat_minor": 2
}
